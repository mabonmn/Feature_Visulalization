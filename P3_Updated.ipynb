{
  "nbformat": 4,
  "nbformat_minor": 0,
  "metadata": {
    "colab": {
      "name": "P3_Updated.ipynb",
      "provenance": [],
      "collapsed_sections": [],
      "include_colab_link": true
    },
    "kernelspec": {
      "name": "python3",
      "display_name": "Python 3"
    },
    "language_info": {
      "name": "python"
    }
  },
  "cells": [
    {
      "cell_type": "markdown",
      "metadata": {
        "id": "view-in-github",
        "colab_type": "text"
      },
      "source": [
        "<a href=\"https://colab.research.google.com/github/mabonmn/Feature_Visulalization/blob/main/P3_Updated.ipynb\" target=\"_parent\"><img src=\"https://colab.research.google.com/assets/colab-badge.svg\" alt=\"Open In Colab\"/></a>"
      ]
    },
    {
      "cell_type": "markdown",
      "source": [
        "#Initialisation"
      ],
      "metadata": {
        "id": "egG1MfGzVQUr"
      }
    },
    {
      "cell_type": "markdown",
      "source": [
        "## Packages"
      ],
      "metadata": {
        "id": "ekPzzA1CVT3N"
      }
    },
    {
      "cell_type": "code",
      "execution_count": null,
      "metadata": {
        "id": "E8abGeb4Ztv4"
      },
      "outputs": [],
      "source": [
        "import numpy as np\n",
        "import h5py\n",
        "import os\n",
        "import cv2\n",
        "import plotly.graph_objects as go\n",
        "import plotly.figure_factory as ff\n",
        "import pandas as pd\n",
        "pd.options.plotting.backend = \"plotly\"\n"
      ]
    },
    {
      "cell_type": "markdown",
      "source": [
        "## Drive Mount/ Variable Initialisation"
      ],
      "metadata": {
        "id": "AyYc4CK-Vg7N"
      }
    },
    {
      "cell_type": "code",
      "source": [
        "from google.colab import drive\n",
        "drive.mount('/content/drive')\n",
        "\n",
        "save_path=\"/content/temp\"\n",
        "isExists = os.path.exists(save_path)\n",
        "if not isExists:\n",
        "    os.makedirs(save_path)\n",
        "save_path=save_path+'/'\n",
        "Changepts_significant_x=[]\n",
        "Changepts_significant_y=[]\n",
        "Changepts_non_significant_x=[]\n",
        "Changepts_non_significant_y=[]"
      ],
      "metadata": {
        "colab": {
          "base_uri": "https://localhost:8080/"
        },
        "id": "uF-dpzkw1JQe",
        "outputId": "e0e031be-d8d8-411e-b961-82a626a72ac6"
      },
      "execution_count": null,
      "outputs": [
        {
          "output_type": "stream",
          "name": "stdout",
          "text": [
            "Mounted at /content/drive\n"
          ]
        }
      ]
    },
    {
      "cell_type": "markdown",
      "source": [
        "#Parameters"
      ],
      "metadata": {
        "id": "BXl9CLuRVOQo"
      }
    },
    {
      "cell_type": "code",
      "source": [
        "vid_initial=1\n",
        "vid_final=50\n",
        "tol_min=0.005\n",
        "tol_max=.05"
      ],
      "metadata": {
        "id": "WEJuu8jXbNMW"
      },
      "execution_count": null,
      "outputs": []
    },
    {
      "cell_type": "markdown",
      "source": [
        "#H5 File Load"
      ],
      "metadata": {
        "id": "V1tBHA1maJUJ"
      }
    },
    {
      "cell_type": "code",
      "source": [
        "#Load Your H5 File here: \n",
        "#For this visulalisation the only requirement of the h5 file is that it should contain the features of each vidoe. \n",
        "file_load= h5py.File('/content/drive/MyDrive/Feature Extraction - Mabon/feature_analysis-P3/eccv16_dataset_tvsum_google_pool5.h5', 'r')"
      ],
      "metadata": {
        "id": "W-VA0l5uaHzU"
      },
      "execution_count": null,
      "outputs": []
    },
    {
      "cell_type": "markdown",
      "source": [
        "Here is the sample format of the H5 File that we use."
      ],
      "metadata": {
        "id": "ozgdzxiuWWjl"
      }
    },
    {
      "cell_type": "code",
      "source": [
        "'''\n",
        "#After Running this Please rerun H5 Load to reload the file.\n",
        "with file_load as hdf:\n",
        "  ky1=np.array(list(hdf.keys()))\n",
        "  g1=hdf.get(ky1[1])\n",
        "  g1_item_1=np.array(list(g1.keys()))\n",
        "  hdf.close()\n",
        "  '''"
      ],
      "metadata": {
        "id": "D3ewMxpTV1tv",
        "colab": {
          "base_uri": "https://localhost:8080/",
          "height": 35
        },
        "outputId": "03785a4f-6fdd-4d5c-9551-e015ce1a345e"
      },
      "execution_count": null,
      "outputs": [
        {
          "output_type": "execute_result",
          "data": {
            "text/plain": [
              "'\\n#After Running this Please rerun H5 Load to reload the file.\\nwith file_load as hdf:\\n  ky1=np.array(list(hdf.keys()))\\n  g1=hdf.get(ky1[1])\\n  g1_item_1=np.array(list(g1.keys()))\\n  hdf.close()\\n  '"
            ],
            "application/vnd.google.colaboratory.intrinsic+json": {
              "type": "string"
            }
          },
          "metadata": {},
          "execution_count": 5
        }
      ]
    },
    {
      "cell_type": "markdown",
      "source": [
        "Structure:"
      ],
      "metadata": {
        "id": "x7iNNwIFW6b5"
      }
    },
    {
      "cell_type": "code",
      "source": [
        "'''\n",
        "print(ky1)\n",
        "print(g1_item_1)\n",
        "'''"
      ],
      "metadata": {
        "colab": {
          "base_uri": "https://localhost:8080/",
          "height": 35
        },
        "id": "z3HQbDWjWO8V",
        "outputId": "3ada5d0b-0dc1-44dd-ce43-0bc349407c96"
      },
      "execution_count": null,
      "outputs": [
        {
          "output_type": "execute_result",
          "data": {
            "text/plain": [
              "'\\nprint(ky1)\\nprint(g1_item_1)\\n'"
            ],
            "application/vnd.google.colaboratory.intrinsic+json": {
              "type": "string"
            }
          },
          "metadata": {},
          "execution_count": 6
        }
      ]
    },
    {
      "cell_type": "markdown",
      "source": [
        "#Standard Deviation of Features"
      ],
      "metadata": {
        "id": "RMDQtNmIW8i6"
      }
    },
    {
      "cell_type": "code",
      "source": [
        "features_std=[]\n",
        "for v in range (vid_initial,vid_final+1):\n",
        "  features=file_load['video_'+str(v)]['features'][:]\n",
        "  features=pd.DataFrame(features)\n",
        "  temp=[]\n",
        "  for i in range(len(features.columns)):\n",
        "    temp.append(features[i].std())\n",
        "  features_std.append(temp)\n",
        "features_std=pd.DataFrame(features_std)"
      ],
      "metadata": {
        "id": "i3vXzA7zaUjZ"
      },
      "execution_count": null,
      "outputs": []
    },
    {
      "cell_type": "markdown",
      "source": [
        "#Plotting Features That Change and Are Static throgh the Video"
      ],
      "metadata": {
        "id": "XO9pbtt6aCCJ"
      }
    },
    {
      "cell_type": "code",
      "source": [
        "for v in range (vid_initial,vid_final+1):\n",
        "  features=file_load['video_'+str(v)]['features'][:]\n",
        "  features=pd.DataFrame(features)\n",
        "\n",
        "  features_tol_min=[]\n",
        "  features_label_tol_min=[]\n",
        "  features_tol_max=[]\n",
        "  features_label_tol_max=[]\n",
        "\n",
        "  c1=0\n",
        "  c2=0\n",
        "  for k in range(1024):\n",
        "\n",
        "    if(abs(features_std.loc[v-1].iat[k])<tol_min):\n",
        "\n",
        "      features_tol_min.append(np.array(features[k]))\n",
        "      features_label_tol_min.append(\"Feature No: \"+str(k))\n",
        "      Changepts_non_significant_x.append(v)\n",
        "      Changepts_non_significant_y.append(k)\n",
        "      c1+=1\n",
        "\n",
        "    elif(abs(features_std.loc[v-1].iat[k])>tol_max):\n",
        "      \n",
        "      features_tol_max.append(np.array(features[k]))\n",
        "      features_label_tol_max.append(\"Feature No: \"+str(k))\n",
        "      Changepts_significant_x.append(v)\n",
        "      Changepts_significant_y.append(k)\n",
        "      c2+=1\n",
        "\n",
        "  print(\" Video No: \"+str(v)+ \" \\n   Number of features that are Important:     \"+str(c2))\n",
        "  print(\"   Number of features that are Not Important: \"+str(c1))\n",
        "  \n",
        "  try:\n",
        "    \n",
        "    fig = ff.create_distplot(features_tol_min, features_label_tol_min, show_rug=False, show_hist=False)\n",
        "    fig.update_layout(title_text=('Video '+str(v)+\" Features with STD Less than \"+str(tol_min)))\n",
        "    fig.write_html(save_path+\"Video : \"+str(v)+\" Min.html\")\n",
        "  except:\n",
        "\n",
        "    print(\"NO MIN PLOT FOR VIDEO :\"+str(v))\n",
        "\n",
        "  try:\n",
        "\n",
        "    fig1 = ff.create_distplot(features_tol_max, features_label_tol_max, show_rug=False, show_hist=False)\n",
        "    fig1.update_layout(title_text=('Video '+str(v)+\" Features with STD More than \"+str(tol_min)))\n",
        "    fig1.write_html(save_path+\"Video : \"+str(v)+\" Max.html\")\n",
        "  except:\n",
        "    \n",
        "    print(\"NO MAX PLOT FOR VIDEO :\"+str(v))"
      ],
      "metadata": {
        "colab": {
          "base_uri": "https://localhost:8080/"
        },
        "id": "5yH3Eofib5yc",
        "outputId": "396934de-673c-4598-adc5-5e10a411680c"
      },
      "execution_count": null,
      "outputs": [
        {
          "output_type": "stream",
          "name": "stdout",
          "text": [
            " Video No: 1 \n",
            "   Number of features that are Important:     20\n",
            "   Number of features that are Not Important: 13\n",
            " Video No: 2 \n",
            "   Number of features that are Important:     16\n",
            "   Number of features that are Not Important: 6\n",
            " Video No: 3 \n",
            "   Number of features that are Important:     7\n",
            "   Number of features that are Not Important: 8\n",
            " Video No: 4 \n",
            "   Number of features that are Important:     12\n",
            "   Number of features that are Not Important: 6\n",
            " Video No: 5 \n",
            "   Number of features that are Important:     22\n",
            "   Number of features that are Not Important: 74\n",
            " Video No: 6 \n",
            "   Number of features that are Important:     7\n",
            "   Number of features that are Not Important: 56\n",
            " Video No: 7 \n",
            "   Number of features that are Important:     18\n",
            "   Number of features that are Not Important: 11\n",
            " Video No: 8 \n",
            "   Number of features that are Important:     7\n",
            "   Number of features that are Not Important: 20\n",
            " Video No: 9 \n",
            "   Number of features that are Important:     8\n",
            "   Number of features that are Not Important: 15\n",
            " Video No: 10 \n",
            "   Number of features that are Important:     14\n",
            "   Number of features that are Not Important: 48\n",
            " Video No: 11 \n",
            "   Number of features that are Important:     17\n",
            "   Number of features that are Not Important: 26\n",
            " Video No: 12 \n",
            "   Number of features that are Important:     9\n",
            "   Number of features that are Not Important: 3\n",
            " Video No: 13 \n",
            "   Number of features that are Important:     16\n",
            "   Number of features that are Not Important: 8\n",
            " Video No: 14 \n",
            "   Number of features that are Important:     8\n",
            "   Number of features that are Not Important: 13\n",
            " Video No: 15 \n",
            "   Number of features that are Important:     24\n",
            "   Number of features that are Not Important: 80\n",
            " Video No: 16 \n",
            "   Number of features that are Important:     8\n",
            "   Number of features that are Not Important: 44\n",
            " Video No: 17 \n",
            "   Number of features that are Important:     5\n",
            "   Number of features that are Not Important: 38\n",
            " Video No: 18 \n",
            "   Number of features that are Important:     10\n",
            "   Number of features that are Not Important: 21\n",
            " Video No: 19 \n",
            "   Number of features that are Important:     12\n",
            "   Number of features that are Not Important: 1\n",
            " Video No: 20 \n",
            "   Number of features that are Important:     21\n",
            "   Number of features that are Not Important: 9\n",
            " Video No: 21 \n",
            "   Number of features that are Important:     9\n",
            "   Number of features that are Not Important: 31\n",
            " Video No: 22 \n",
            "   Number of features that are Important:     14\n",
            "   Number of features that are Not Important: 4\n",
            " Video No: 23 \n",
            "   Number of features that are Important:     9\n",
            "   Number of features that are Not Important: 1\n",
            " Video No: 24 \n",
            "   Number of features that are Important:     7\n",
            "   Number of features that are Not Important: 0\n",
            "NO MIN PLOT FOR VIDEO :24\n",
            " Video No: 25 \n",
            "   Number of features that are Important:     12\n",
            "   Number of features that are Not Important: 0\n",
            "NO MIN PLOT FOR VIDEO :25\n",
            " Video No: 26 \n",
            "   Number of features that are Important:     12\n",
            "   Number of features that are Not Important: 4\n",
            " Video No: 27 \n",
            "   Number of features that are Important:     12\n",
            "   Number of features that are Not Important: 6\n",
            " Video No: 28 \n",
            "   Number of features that are Important:     9\n",
            "   Number of features that are Not Important: 37\n",
            " Video No: 29 \n",
            "   Number of features that are Important:     5\n",
            "   Number of features that are Not Important: 11\n",
            " Video No: 30 \n",
            "   Number of features that are Important:     16\n",
            "   Number of features that are Not Important: 8\n",
            " Video No: 31 \n",
            "   Number of features that are Important:     7\n",
            "   Number of features that are Not Important: 19\n",
            " Video No: 32 \n",
            "   Number of features that are Important:     11\n",
            "   Number of features that are Not Important: 12\n",
            " Video No: 33 \n",
            "   Number of features that are Important:     19\n",
            "   Number of features that are Not Important: 152\n",
            " Video No: 34 \n",
            "   Number of features that are Important:     15\n",
            "   Number of features that are Not Important: 14\n",
            " Video No: 35 \n",
            "   Number of features that are Important:     8\n",
            "   Number of features that are Not Important: 9\n",
            " Video No: 36 \n",
            "   Number of features that are Important:     13\n",
            "   Number of features that are Not Important: 1\n",
            " Video No: 37 \n",
            "   Number of features that are Important:     14\n",
            "   Number of features that are Not Important: 6\n",
            " Video No: 38 \n",
            "   Number of features that are Important:     25\n",
            "   Number of features that are Not Important: 33\n",
            " Video No: 39 \n",
            "   Number of features that are Important:     9\n",
            "   Number of features that are Not Important: 29\n",
            " Video No: 40 \n",
            "   Number of features that are Important:     16\n",
            "   Number of features that are Not Important: 36\n",
            " Video No: 41 \n",
            "   Number of features that are Important:     8\n",
            "   Number of features that are Not Important: 99\n",
            " Video No: 42 \n",
            "   Number of features that are Important:     15\n",
            "   Number of features that are Not Important: 24\n",
            " Video No: 43 \n",
            "   Number of features that are Important:     19\n",
            "   Number of features that are Not Important: 19\n",
            " Video No: 44 \n",
            "   Number of features that are Important:     15\n",
            "   Number of features that are Not Important: 9\n",
            " Video No: 45 \n",
            "   Number of features that are Important:     17\n",
            "   Number of features that are Not Important: 4\n",
            " Video No: 46 \n",
            "   Number of features that are Important:     11\n",
            "   Number of features that are Not Important: 2\n",
            " Video No: 47 \n",
            "   Number of features that are Important:     5\n",
            "   Number of features that are Not Important: 6\n",
            " Video No: 48 \n",
            "   Number of features that are Important:     10\n",
            "   Number of features that are Not Important: 1\n",
            " Video No: 49 \n",
            "   Number of features that are Important:     16\n",
            "   Number of features that are Not Important: 47\n",
            " Video No: 50 \n",
            "   Number of features that are Important:     10\n",
            "   Number of features that are Not Important: 12\n"
          ]
        }
      ]
    },
    {
      "cell_type": "markdown",
      "source": [
        "#Main Plot to Represent Stand-Out Features"
      ],
      "metadata": {
        "id": "-Hy3-Q9LaNV2"
      }
    },
    {
      "cell_type": "code",
      "source": [
        "fig=go.Figure()\n",
        "fig.add_trace(\n",
        "    go.Scatter(x=np.array(Changepts_non_significant_x),y=np.array(Changepts_non_significant_y),mode='markers', name='Feratures that do not Change')\n",
        ")\n",
        "fig.add_trace(\n",
        "    go.Scatter(x=np.array(Changepts_significant_x),y=np.array(Changepts_significant_y),mode='markers',name='Fetures that Change')\n",
        ")\n",
        "\n",
        "\n",
        "fig.update_layout(\n",
        "   title=(\"Visual Representation of Features that Change and Do Not Change in each Video\"),\n",
        "    xaxis_title=\"Video Number\",\n",
        "    yaxis_title=\"Feature Number\")\n",
        "fig.show()"
      ],
      "metadata": {
        "colab": {
          "base_uri": "https://localhost:8080/",
          "height": 542
        },
        "id": "KP2OAvqbDSbe",
        "outputId": "60eac593-5cc2-42e1-a701-42472a459434"
      },
      "execution_count": null,
      "outputs": [
        {
          "output_type": "display_data",
          "data": {
            "text/html": [
              "<html>\n",
              "<head><meta charset=\"utf-8\" /></head>\n",
              "<body>\n",
              "    <div>            <script src=\"https://cdnjs.cloudflare.com/ajax/libs/mathjax/2.7.5/MathJax.js?config=TeX-AMS-MML_SVG\"></script><script type=\"text/javascript\">if (window.MathJax) {MathJax.Hub.Config({SVG: {font: \"STIX-Web\"}});}</script>                <script type=\"text/javascript\">window.PlotlyConfig = {MathJaxConfig: 'local'};</script>\n",
              "        <script src=\"https://cdn.plot.ly/plotly-2.8.3.min.js\"></script>                <div id=\"a79887f9-ae20-4499-bcda-e01e62115606\" class=\"plotly-graph-div\" style=\"height:525px; width:100%;\"></div>            <script type=\"text/javascript\">                                    window.PLOTLYENV=window.PLOTLYENV || {};                                    if (document.getElementById(\"a79887f9-ae20-4499-bcda-e01e62115606\")) {                    Plotly.newPlot(                        \"a79887f9-ae20-4499-bcda-e01e62115606\",                        [{\"mode\":\"markers\",\"name\":\"Feratures that do not Change\",\"x\":[1,1,1,1,1,1,1,1,1,1,1,1,1,2,2,2,2,2,2,3,3,3,3,3,3,3,3,4,4,4,4,4,4,5,5,5,5,5,5,5,5,5,5,5,5,5,5,5,5,5,5,5,5,5,5,5,5,5,5,5,5,5,5,5,5,5,5,5,5,5,5,5,5,5,5,5,5,5,5,5,5,5,5,5,5,5,5,5,5,5,5,5,5,5,5,5,5,5,5,5,5,5,5,5,5,5,5,6,6,6,6,6,6,6,6,6,6,6,6,6,6,6,6,6,6,6,6,6,6,6,6,6,6,6,6,6,6,6,6,6,6,6,6,6,6,6,6,6,6,6,6,6,6,6,6,6,6,6,6,6,6,6,6,7,7,7,7,7,7,7,7,7,7,7,8,8,8,8,8,8,8,8,8,8,8,8,8,8,8,8,8,8,8,8,9,9,9,9,9,9,9,9,9,9,9,9,9,9,9,10,10,10,10,10,10,10,10,10,10,10,10,10,10,10,10,10,10,10,10,10,10,10,10,10,10,10,10,10,10,10,10,10,10,10,10,10,10,10,10,10,10,10,10,10,10,10,10,11,11,11,11,11,11,11,11,11,11,11,11,11,11,11,11,11,11,11,11,11,11,11,11,11,11,12,12,12,13,13,13,13,13,13,13,13,14,14,14,14,14,14,14,14,14,14,14,14,14,15,15,15,15,15,15,15,15,15,15,15,15,15,15,15,15,15,15,15,15,15,15,15,15,15,15,15,15,15,15,15,15,15,15,15,15,15,15,15,15,15,15,15,15,15,15,15,15,15,15,15,15,15,15,15,15,15,15,15,15,15,15,15,15,15,15,15,15,15,15,15,15,15,15,15,15,15,15,15,15,16,16,16,16,16,16,16,16,16,16,16,16,16,16,16,16,16,16,16,16,16,16,16,16,16,16,16,16,16,16,16,16,16,16,16,16,16,16,16,16,16,16,16,16,17,17,17,17,17,17,17,17,17,17,17,17,17,17,17,17,17,17,17,17,17,17,17,17,17,17,17,17,17,17,17,17,17,17,17,17,17,17,18,18,18,18,18,18,18,18,18,18,18,18,18,18,18,18,18,18,18,18,18,19,20,20,20,20,20,20,20,20,20,21,21,21,21,21,21,21,21,21,21,21,21,21,21,21,21,21,21,21,21,21,21,21,21,21,21,21,21,21,21,21,22,22,22,22,23,26,26,26,26,27,27,27,27,27,27,28,28,28,28,28,28,28,28,28,28,28,28,28,28,28,28,28,28,28,28,28,28,28,28,28,28,28,28,28,28,28,28,28,28,28,28,28,29,29,29,29,29,29,29,29,29,29,29,30,30,30,30,30,30,30,30,31,31,31,31,31,31,31,31,31,31,31,31,31,31,31,31,31,31,31,32,32,32,32,32,32,32,32,32,32,32,32,33,33,33,33,33,33,33,33,33,33,33,33,33,33,33,33,33,33,33,33,33,33,33,33,33,33,33,33,33,33,33,33,33,33,33,33,33,33,33,33,33,33,33,33,33,33,33,33,33,33,33,33,33,33,33,33,33,33,33,33,33,33,33,33,33,33,33,33,33,33,33,33,33,33,33,33,33,33,33,33,33,33,33,33,33,33,33,33,33,33,33,33,33,33,33,33,33,33,33,33,33,33,33,33,33,33,33,33,33,33,33,33,33,33,33,33,33,33,33,33,33,33,33,33,33,33,33,33,33,33,33,33,33,33,33,33,33,33,33,33,33,33,33,33,33,33,33,33,33,33,33,33,34,34,34,34,34,34,34,34,34,34,34,34,34,34,35,35,35,35,35,35,35,35,35,36,37,37,37,37,37,37,38,38,38,38,38,38,38,38,38,38,38,38,38,38,38,38,38,38,38,38,38,38,38,38,38,38,38,38,38,38,38,38,38,39,39,39,39,39,39,39,39,39,39,39,39,39,39,39,39,39,39,39,39,39,39,39,39,39,39,39,39,39,40,40,40,40,40,40,40,40,40,40,40,40,40,40,40,40,40,40,40,40,40,40,40,40,40,40,40,40,40,40,40,40,40,40,40,40,41,41,41,41,41,41,41,41,41,41,41,41,41,41,41,41,41,41,41,41,41,41,41,41,41,41,41,41,41,41,41,41,41,41,41,41,41,41,41,41,41,41,41,41,41,41,41,41,41,41,41,41,41,41,41,41,41,41,41,41,41,41,41,41,41,41,41,41,41,41,41,41,41,41,41,41,41,41,41,41,41,41,41,41,41,41,41,41,41,41,41,41,41,41,41,41,41,41,41,42,42,42,42,42,42,42,42,42,42,42,42,42,42,42,42,42,42,42,42,42,42,42,42,43,43,43,43,43,43,43,43,43,43,43,43,43,43,43,43,43,43,43,44,44,44,44,44,44,44,44,44,45,45,45,45,46,46,47,47,47,47,47,47,48,49,49,49,49,49,49,49,49,49,49,49,49,49,49,49,49,49,49,49,49,49,49,49,49,49,49,49,49,49,49,49,49,49,49,49,49,49,49,49,49,49,49,49,49,49,49,49,50,50,50,50,50,50,50,50,50,50,50,50],\"y\":[149,158,212,216,249,333,363,368,390,550,873,974,984,149,171,269,338,629,937,13,159,169,232,330,339,799,1019,1,159,224,269,934,974,7,11,12,13,14,22,30,36,48,54,77,83,87,89,120,132,137,154,159,171,173,187,193,198,224,255,259,263,269,285,294,296,298,323,333,338,339,346,352,361,362,375,378,391,408,415,427,527,657,664,689,715,763,809,811,813,828,857,872,890,911,913,919,934,944,970,973,974,1002,1003,1007,1008,1014,1022,0,2,11,13,14,28,40,47,54,75,102,122,149,158,165,169,180,186,191,194,196,206,208,212,232,251,285,290,303,307,333,358,363,368,370,373,422,424,480,525,580,590,608,665,667,763,780,792,856,936,937,943,1005,1014,1017,1023,7,13,330,333,352,370,680,763,825,896,971,28,63,120,138,159,164,169,171,228,229,232,275,330,333,338,339,346,349,368,825,54,95,171,232,255,266,285,307,333,349,368,580,650,891,974,0,7,13,14,77,120,139,159,171,215,223,224,244,255,271,280,291,293,333,337,338,339,368,383,398,400,517,535,555,607,680,696,743,763,769,804,821,825,828,830,836,844,850,857,878,896,989,1023,124,175,240,243,311,339,343,368,369,500,535,555,664,763,791,829,830,850,855,862,895,918,935,988,1006,1013,120,330,825,8,53,107,140,232,249,349,615,13,105,171,269,330,339,343,349,369,818,892,913,944,12,20,53,57,65,77,87,88,103,107,120,130,136,139,140,154,160,164,168,171,181,201,210,216,218,219,224,249,251,257,262,263,269,271,274,291,301,302,312,315,325,330,333,339,349,369,370,376,380,385,418,450,471,514,559,573,583,625,656,657,661,698,729,807,818,824,827,842,843,861,863,926,931,940,966,987,998,1004,1008,1011,37,38,46,57,86,88,119,140,144,146,211,216,268,294,320,336,339,373,376,378,585,621,769,807,815,820,830,835,849,856,875,876,890,892,895,909,915,933,959,976,991,1004,1014,1017,3,7,38,46,86,88,100,119,139,140,144,160,211,224,259,304,314,320,339,373,449,621,719,764,777,815,817,828,849,855,873,884,933,974,976,977,991,1004,7,64,88,95,97,120,139,140,171,225,228,293,320,330,336,339,349,353,449,959,975,190,35,88,119,139,259,330,856,971,1002,7,8,13,36,42,71,95,97,120,136,138,139,146,159,171,173,201,216,225,228,229,269,320,325,333,338,339,368,369,383,974,169,179,212,349,937,212,337,339,920,3,67,105,260,369,938,0,14,48,75,77,88,149,158,164,169,186,212,229,232,236,298,307,333,339,341,349,358,363,367,368,369,380,422,580,729,771,804,834,844,931,984,1022,40,95,120,148,171,311,330,333,363,368,369,0,149,159,232,349,363,650,1018,8,27,88,95,107,117,120,159,171,216,228,273,275,330,337,339,349,383,920,48,88,212,232,275,280,333,339,349,938,1003,1019,3,5,7,10,27,36,37,42,71,74,83,87,88,95,98,105,107,117,121,125,140,146,150,151,155,159,162,169,172,187,189,198,207,210,212,214,224,230,232,236,238,239,249,258,260,261,264,266,269,271,273,293,299,307,317,320,330,332,333,334,336,338,339,343,345,347,349,353,362,364,368,370,371,380,394,412,430,431,445,454,471,479,492,494,497,500,509,515,517,520,522,535,546,547,564,604,616,625,630,632,653,662,667,694,746,754,755,774,780,781,785,791,799,806,817,818,819,820,825,829,830,836,840,842,844,846,850,855,872,878,884,893,896,903,905,906,917,931,932,933,934,935,937,941,946,953,977,986,1000,1002,1014,1021,6,42,88,148,159,212,232,258,275,349,367,653,894,1018,48,120,138,159,330,339,349,383,928,122,29,122,216,363,383,1002,0,8,41,61,68,70,104,180,233,303,320,369,425,476,518,567,573,625,641,697,790,856,864,866,907,914,918,919,920,987,992,1022,1023,11,29,40,48,105,114,120,136,148,149,159,180,196,201,209,215,225,229,251,275,323,330,333,339,363,369,373,383,907,8,20,41,48,52,70,76,88,122,149,152,177,194,212,216,228,229,275,276,288,315,320,330,333,339,342,349,363,365,369,383,593,717,918,1014,1022,6,14,18,40,42,48,53,54,90,95,97,98,110,118,122,136,140,145,147,148,153,175,196,212,224,229,232,236,238,242,246,254,261,274,278,280,281,288,303,305,312,318,327,328,330,351,358,366,368,369,380,388,394,441,442,453,524,533,553,564,567,576,594,595,622,632,650,656,725,729,739,747,749,753,755,758,792,832,837,842,843,862,875,894,907,909,923,931,938,939,950,974,984,995,999,1003,1004,1019,1023,0,7,14,75,83,88,95,120,139,146,148,171,291,332,333,339,370,405,477,555,664,680,913,974,27,29,44,159,176,229,232,249,255,258,349,358,405,555,580,591,920,992,1002,0,159,224,312,339,349,891,920,1022,0,159,229,275,88,148,88,271,339,343,349,368,94,42,57,65,67,75,83,140,164,218,224,249,251,274,293,325,339,345,349,367,368,378,388,427,544,570,614,621,698,807,815,824,829,830,850,856,875,880,885,896,925,933,939,941,966,982,1003,1020,54,86,119,275,301,320,323,339,349,353,919,976],\"type\":\"scatter\"},{\"mode\":\"markers\",\"name\":\"Fetures that Change\",\"x\":[1,1,1,1,1,1,1,1,1,1,1,1,1,1,1,1,1,1,1,1,2,2,2,2,2,2,2,2,2,2,2,2,2,2,2,2,3,3,3,3,3,3,3,4,4,4,4,4,4,4,4,4,4,4,4,5,5,5,5,5,5,5,5,5,5,5,5,5,5,5,5,5,5,5,5,5,5,6,6,6,6,6,6,6,7,7,7,7,7,7,7,7,7,7,7,7,7,7,7,7,7,7,8,8,8,8,8,8,8,9,9,9,9,9,9,9,9,10,10,10,10,10,10,10,10,10,10,10,10,10,10,11,11,11,11,11,11,11,11,11,11,11,11,11,11,11,11,11,12,12,12,12,12,12,12,12,12,13,13,13,13,13,13,13,13,13,13,13,13,13,13,13,13,14,14,14,14,14,14,14,14,15,15,15,15,15,15,15,15,15,15,15,15,15,15,15,15,15,15,15,15,15,15,15,15,16,16,16,16,16,16,16,16,17,17,17,17,17,18,18,18,18,18,18,18,18,18,18,19,19,19,19,19,19,19,19,19,19,19,19,20,20,20,20,20,20,20,20,20,20,20,20,20,20,20,20,20,20,20,20,20,21,21,21,21,21,21,21,21,21,22,22,22,22,22,22,22,22,22,22,22,22,22,22,23,23,23,23,23,23,23,23,23,24,24,24,24,24,24,24,25,25,25,25,25,25,25,25,25,25,25,25,26,26,26,26,26,26,26,26,26,26,26,26,27,27,27,27,27,27,27,27,27,27,27,27,28,28,28,28,28,28,28,28,28,29,29,29,29,29,30,30,30,30,30,30,30,30,30,30,30,30,30,30,30,30,31,31,31,31,31,31,31,32,32,32,32,32,32,32,32,32,32,32,33,33,33,33,33,33,33,33,33,33,33,33,33,33,33,33,33,33,33,34,34,34,34,34,34,34,34,34,34,34,34,34,34,34,35,35,35,35,35,35,35,35,36,36,36,36,36,36,36,36,36,36,36,36,36,37,37,37,37,37,37,37,37,37,37,37,37,37,37,38,38,38,38,38,38,38,38,38,38,38,38,38,38,38,38,38,38,38,38,38,38,38,38,38,39,39,39,39,39,39,39,39,39,40,40,40,40,40,40,40,40,40,40,40,40,40,40,40,40,41,41,41,41,41,41,41,41,42,42,42,42,42,42,42,42,42,42,42,42,42,42,42,43,43,43,43,43,43,43,43,43,43,43,43,43,43,43,43,43,43,43,44,44,44,44,44,44,44,44,44,44,44,44,44,44,44,45,45,45,45,45,45,45,45,45,45,45,45,45,45,45,45,45,46,46,46,46,46,46,46,46,46,46,46,47,47,47,47,47,48,48,48,48,48,48,48,48,48,48,49,49,49,49,49,49,49,49,49,49,49,49,49,49,49,49,50,50,50,50,50,50,50,50,50,50],\"y\":[4,46,65,129,300,306,488,547,616,741,766,784,863,870,888,901,917,934,952,963,32,46,119,194,343,374,565,714,718,770,806,899,917,947,961,966,281,904,946,973,983,985,1020,32,46,115,119,194,250,310,374,522,702,714,936,99,165,166,247,354,372,390,560,578,610,617,662,666,672,806,898,902,904,917,959,977,1018,353,552,770,904,927,958,968,119,144,172,265,297,482,507,701,904,907,921,936,951,959,998,1008,1015,1016,10,123,134,306,355,713,921,82,565,623,783,839,899,909,936,32,82,281,374,482,545,594,701,749,927,936,967,983,988,4,44,111,178,217,455,686,690,777,797,870,887,946,963,969,980,1009,15,158,170,203,414,482,590,681,980,127,183,194,237,250,482,569,716,795,797,800,848,936,946,959,963,32,82,115,292,482,902,980,983,66,142,143,194,436,489,494,588,589,605,689,701,809,864,905,917,936,949,952,969,994,1009,1012,1015,147,158,205,258,413,652,668,947,158,181,205,851,972,115,147,150,165,170,326,684,721,798,963,77,87,121,130,134,237,545,668,946,957,985,1021,101,123,147,165,204,261,281,292,467,535,665,668,757,836,906,936,980,993,995,1011,1012,115,326,482,904,908,936,946,956,996,7,46,64,99,115,193,237,335,353,666,912,958,967,983,32,281,353,374,691,701,912,958,983,46,134,297,353,912,967,1020,99,134,222,227,290,297,768,958,983,985,1016,1020,134,174,265,355,861,898,912,946,983,985,996,1016,46,87,99,115,174,227,253,353,355,936,946,994,46,256,353,766,912,958,967,973,999,174,357,912,945,955,87,100,115,134,335,353,399,686,722,861,905,944,963,967,975,985,82,134,355,668,912,946,985,99,115,174,256,297,355,357,861,898,969,1016,204,424,462,530,614,719,826,861,900,918,925,945,956,958,962,967,1006,1010,1016,99,134,174,256,297,353,355,357,493,722,861,912,967,985,1020,204,227,355,467,493,651,904,985,7,12,46,265,297,353,435,439,691,912,917,929,985,106,265,497,662,748,904,910,917,919,936,962,985,994,1020,7,80,90,133,219,227,252,274,305,306,497,539,585,643,752,782,847,849,936,952,962,963,973,994,1009,115,326,416,482,904,936,946,963,985,123,134,137,146,207,302,353,497,905,912,952,963,973,985,997,998,39,46,173,240,259,343,965,973,82,99,115,374,482,522,593,594,663,701,925,951,979,994,996,70,90,100,109,134,208,241,316,427,686,688,797,798,912,944,952,965,967,996,107,204,241,273,346,686,783,808,898,936,943,952,967,985,1009,70,82,165,194,241,399,463,686,703,750,922,946,952,965,967,975,985,82,99,173,193,194,256,297,969,1007,1015,1016,386,401,482,929,985,82,601,776,936,946,967,970,978,985,987,115,281,454,476,482,553,619,635,645,701,750,904,909,936,952,1015,286,678,788,823,917,921,929,946,1012,1020],\"type\":\"scatter\"}],                        {\"template\":{\"data\":{\"bar\":[{\"error_x\":{\"color\":\"#2a3f5f\"},\"error_y\":{\"color\":\"#2a3f5f\"},\"marker\":{\"line\":{\"color\":\"#E5ECF6\",\"width\":0.5},\"pattern\":{\"fillmode\":\"overlay\",\"size\":10,\"solidity\":0.2}},\"type\":\"bar\"}],\"barpolar\":[{\"marker\":{\"line\":{\"color\":\"#E5ECF6\",\"width\":0.5},\"pattern\":{\"fillmode\":\"overlay\",\"size\":10,\"solidity\":0.2}},\"type\":\"barpolar\"}],\"carpet\":[{\"aaxis\":{\"endlinecolor\":\"#2a3f5f\",\"gridcolor\":\"white\",\"linecolor\":\"white\",\"minorgridcolor\":\"white\",\"startlinecolor\":\"#2a3f5f\"},\"baxis\":{\"endlinecolor\":\"#2a3f5f\",\"gridcolor\":\"white\",\"linecolor\":\"white\",\"minorgridcolor\":\"white\",\"startlinecolor\":\"#2a3f5f\"},\"type\":\"carpet\"}],\"choropleth\":[{\"colorbar\":{\"outlinewidth\":0,\"ticks\":\"\"},\"type\":\"choropleth\"}],\"contour\":[{\"colorbar\":{\"outlinewidth\":0,\"ticks\":\"\"},\"colorscale\":[[0.0,\"#0d0887\"],[0.1111111111111111,\"#46039f\"],[0.2222222222222222,\"#7201a8\"],[0.3333333333333333,\"#9c179e\"],[0.4444444444444444,\"#bd3786\"],[0.5555555555555556,\"#d8576b\"],[0.6666666666666666,\"#ed7953\"],[0.7777777777777778,\"#fb9f3a\"],[0.8888888888888888,\"#fdca26\"],[1.0,\"#f0f921\"]],\"type\":\"contour\"}],\"contourcarpet\":[{\"colorbar\":{\"outlinewidth\":0,\"ticks\":\"\"},\"type\":\"contourcarpet\"}],\"heatmap\":[{\"colorbar\":{\"outlinewidth\":0,\"ticks\":\"\"},\"colorscale\":[[0.0,\"#0d0887\"],[0.1111111111111111,\"#46039f\"],[0.2222222222222222,\"#7201a8\"],[0.3333333333333333,\"#9c179e\"],[0.4444444444444444,\"#bd3786\"],[0.5555555555555556,\"#d8576b\"],[0.6666666666666666,\"#ed7953\"],[0.7777777777777778,\"#fb9f3a\"],[0.8888888888888888,\"#fdca26\"],[1.0,\"#f0f921\"]],\"type\":\"heatmap\"}],\"heatmapgl\":[{\"colorbar\":{\"outlinewidth\":0,\"ticks\":\"\"},\"colorscale\":[[0.0,\"#0d0887\"],[0.1111111111111111,\"#46039f\"],[0.2222222222222222,\"#7201a8\"],[0.3333333333333333,\"#9c179e\"],[0.4444444444444444,\"#bd3786\"],[0.5555555555555556,\"#d8576b\"],[0.6666666666666666,\"#ed7953\"],[0.7777777777777778,\"#fb9f3a\"],[0.8888888888888888,\"#fdca26\"],[1.0,\"#f0f921\"]],\"type\":\"heatmapgl\"}],\"histogram\":[{\"marker\":{\"pattern\":{\"fillmode\":\"overlay\",\"size\":10,\"solidity\":0.2}},\"type\":\"histogram\"}],\"histogram2d\":[{\"colorbar\":{\"outlinewidth\":0,\"ticks\":\"\"},\"colorscale\":[[0.0,\"#0d0887\"],[0.1111111111111111,\"#46039f\"],[0.2222222222222222,\"#7201a8\"],[0.3333333333333333,\"#9c179e\"],[0.4444444444444444,\"#bd3786\"],[0.5555555555555556,\"#d8576b\"],[0.6666666666666666,\"#ed7953\"],[0.7777777777777778,\"#fb9f3a\"],[0.8888888888888888,\"#fdca26\"],[1.0,\"#f0f921\"]],\"type\":\"histogram2d\"}],\"histogram2dcontour\":[{\"colorbar\":{\"outlinewidth\":0,\"ticks\":\"\"},\"colorscale\":[[0.0,\"#0d0887\"],[0.1111111111111111,\"#46039f\"],[0.2222222222222222,\"#7201a8\"],[0.3333333333333333,\"#9c179e\"],[0.4444444444444444,\"#bd3786\"],[0.5555555555555556,\"#d8576b\"],[0.6666666666666666,\"#ed7953\"],[0.7777777777777778,\"#fb9f3a\"],[0.8888888888888888,\"#fdca26\"],[1.0,\"#f0f921\"]],\"type\":\"histogram2dcontour\"}],\"mesh3d\":[{\"colorbar\":{\"outlinewidth\":0,\"ticks\":\"\"},\"type\":\"mesh3d\"}],\"parcoords\":[{\"line\":{\"colorbar\":{\"outlinewidth\":0,\"ticks\":\"\"}},\"type\":\"parcoords\"}],\"pie\":[{\"automargin\":true,\"type\":\"pie\"}],\"scatter\":[{\"marker\":{\"colorbar\":{\"outlinewidth\":0,\"ticks\":\"\"}},\"type\":\"scatter\"}],\"scatter3d\":[{\"line\":{\"colorbar\":{\"outlinewidth\":0,\"ticks\":\"\"}},\"marker\":{\"colorbar\":{\"outlinewidth\":0,\"ticks\":\"\"}},\"type\":\"scatter3d\"}],\"scattercarpet\":[{\"marker\":{\"colorbar\":{\"outlinewidth\":0,\"ticks\":\"\"}},\"type\":\"scattercarpet\"}],\"scattergeo\":[{\"marker\":{\"colorbar\":{\"outlinewidth\":0,\"ticks\":\"\"}},\"type\":\"scattergeo\"}],\"scattergl\":[{\"marker\":{\"colorbar\":{\"outlinewidth\":0,\"ticks\":\"\"}},\"type\":\"scattergl\"}],\"scattermapbox\":[{\"marker\":{\"colorbar\":{\"outlinewidth\":0,\"ticks\":\"\"}},\"type\":\"scattermapbox\"}],\"scatterpolar\":[{\"marker\":{\"colorbar\":{\"outlinewidth\":0,\"ticks\":\"\"}},\"type\":\"scatterpolar\"}],\"scatterpolargl\":[{\"marker\":{\"colorbar\":{\"outlinewidth\":0,\"ticks\":\"\"}},\"type\":\"scatterpolargl\"}],\"scatterternary\":[{\"marker\":{\"colorbar\":{\"outlinewidth\":0,\"ticks\":\"\"}},\"type\":\"scatterternary\"}],\"surface\":[{\"colorbar\":{\"outlinewidth\":0,\"ticks\":\"\"},\"colorscale\":[[0.0,\"#0d0887\"],[0.1111111111111111,\"#46039f\"],[0.2222222222222222,\"#7201a8\"],[0.3333333333333333,\"#9c179e\"],[0.4444444444444444,\"#bd3786\"],[0.5555555555555556,\"#d8576b\"],[0.6666666666666666,\"#ed7953\"],[0.7777777777777778,\"#fb9f3a\"],[0.8888888888888888,\"#fdca26\"],[1.0,\"#f0f921\"]],\"type\":\"surface\"}],\"table\":[{\"cells\":{\"fill\":{\"color\":\"#EBF0F8\"},\"line\":{\"color\":\"white\"}},\"header\":{\"fill\":{\"color\":\"#C8D4E3\"},\"line\":{\"color\":\"white\"}},\"type\":\"table\"}]},\"layout\":{\"annotationdefaults\":{\"arrowcolor\":\"#2a3f5f\",\"arrowhead\":0,\"arrowwidth\":1},\"autotypenumbers\":\"strict\",\"coloraxis\":{\"colorbar\":{\"outlinewidth\":0,\"ticks\":\"\"}},\"colorscale\":{\"diverging\":[[0,\"#8e0152\"],[0.1,\"#c51b7d\"],[0.2,\"#de77ae\"],[0.3,\"#f1b6da\"],[0.4,\"#fde0ef\"],[0.5,\"#f7f7f7\"],[0.6,\"#e6f5d0\"],[0.7,\"#b8e186\"],[0.8,\"#7fbc41\"],[0.9,\"#4d9221\"],[1,\"#276419\"]],\"sequential\":[[0.0,\"#0d0887\"],[0.1111111111111111,\"#46039f\"],[0.2222222222222222,\"#7201a8\"],[0.3333333333333333,\"#9c179e\"],[0.4444444444444444,\"#bd3786\"],[0.5555555555555556,\"#d8576b\"],[0.6666666666666666,\"#ed7953\"],[0.7777777777777778,\"#fb9f3a\"],[0.8888888888888888,\"#fdca26\"],[1.0,\"#f0f921\"]],\"sequentialminus\":[[0.0,\"#0d0887\"],[0.1111111111111111,\"#46039f\"],[0.2222222222222222,\"#7201a8\"],[0.3333333333333333,\"#9c179e\"],[0.4444444444444444,\"#bd3786\"],[0.5555555555555556,\"#d8576b\"],[0.6666666666666666,\"#ed7953\"],[0.7777777777777778,\"#fb9f3a\"],[0.8888888888888888,\"#fdca26\"],[1.0,\"#f0f921\"]]},\"colorway\":[\"#636efa\",\"#EF553B\",\"#00cc96\",\"#ab63fa\",\"#FFA15A\",\"#19d3f3\",\"#FF6692\",\"#B6E880\",\"#FF97FF\",\"#FECB52\"],\"font\":{\"color\":\"#2a3f5f\"},\"geo\":{\"bgcolor\":\"white\",\"lakecolor\":\"white\",\"landcolor\":\"#E5ECF6\",\"showlakes\":true,\"showland\":true,\"subunitcolor\":\"white\"},\"hoverlabel\":{\"align\":\"left\"},\"hovermode\":\"closest\",\"mapbox\":{\"style\":\"light\"},\"paper_bgcolor\":\"white\",\"plot_bgcolor\":\"#E5ECF6\",\"polar\":{\"angularaxis\":{\"gridcolor\":\"white\",\"linecolor\":\"white\",\"ticks\":\"\"},\"bgcolor\":\"#E5ECF6\",\"radialaxis\":{\"gridcolor\":\"white\",\"linecolor\":\"white\",\"ticks\":\"\"}},\"scene\":{\"xaxis\":{\"backgroundcolor\":\"#E5ECF6\",\"gridcolor\":\"white\",\"gridwidth\":2,\"linecolor\":\"white\",\"showbackground\":true,\"ticks\":\"\",\"zerolinecolor\":\"white\"},\"yaxis\":{\"backgroundcolor\":\"#E5ECF6\",\"gridcolor\":\"white\",\"gridwidth\":2,\"linecolor\":\"white\",\"showbackground\":true,\"ticks\":\"\",\"zerolinecolor\":\"white\"},\"zaxis\":{\"backgroundcolor\":\"#E5ECF6\",\"gridcolor\":\"white\",\"gridwidth\":2,\"linecolor\":\"white\",\"showbackground\":true,\"ticks\":\"\",\"zerolinecolor\":\"white\"}},\"shapedefaults\":{\"line\":{\"color\":\"#2a3f5f\"}},\"ternary\":{\"aaxis\":{\"gridcolor\":\"white\",\"linecolor\":\"white\",\"ticks\":\"\"},\"baxis\":{\"gridcolor\":\"white\",\"linecolor\":\"white\",\"ticks\":\"\"},\"bgcolor\":\"#E5ECF6\",\"caxis\":{\"gridcolor\":\"white\",\"linecolor\":\"white\",\"ticks\":\"\"}},\"title\":{\"x\":0.05},\"xaxis\":{\"automargin\":true,\"gridcolor\":\"white\",\"linecolor\":\"white\",\"ticks\":\"\",\"title\":{\"standoff\":15},\"zerolinecolor\":\"white\",\"zerolinewidth\":2},\"yaxis\":{\"automargin\":true,\"gridcolor\":\"white\",\"linecolor\":\"white\",\"ticks\":\"\",\"title\":{\"standoff\":15},\"zerolinecolor\":\"white\",\"zerolinewidth\":2}}},\"title\":{\"text\":\"Visual Representation of Features that Change and Do Not Change in each Video\"},\"xaxis\":{\"title\":{\"text\":\"Video Number\"}},\"yaxis\":{\"title\":{\"text\":\"Feature Number\"}}},                        {\"responsive\": true}                    ).then(function(){\n",
              "                            \n",
              "var gd = document.getElementById('a79887f9-ae20-4499-bcda-e01e62115606');\n",
              "var x = new MutationObserver(function (mutations, observer) {{\n",
              "        var display = window.getComputedStyle(gd).display;\n",
              "        if (!display || display === 'none') {{\n",
              "            console.log([gd, 'removed!']);\n",
              "            Plotly.purge(gd);\n",
              "            observer.disconnect();\n",
              "        }}\n",
              "}});\n",
              "\n",
              "// Listen for the removal of the full notebook cells\n",
              "var notebookContainer = gd.closest('#notebook-container');\n",
              "if (notebookContainer) {{\n",
              "    x.observe(notebookContainer, {childList: true});\n",
              "}}\n",
              "\n",
              "// Listen for the clearing of the current output cell\n",
              "var outputEl = gd.closest('.output');\n",
              "if (outputEl) {{\n",
              "    x.observe(outputEl, {childList: true});\n",
              "}}\n",
              "\n",
              "                        })                };                            </script>        </div>\n",
              "</body>\n",
              "</html>"
            ]
          },
          "metadata": {}
        }
      ]
    },
    {
      "cell_type": "markdown",
      "source": [
        "#Download Plots"
      ],
      "metadata": {
        "id": "VYla3lUkaf4H"
      }
    },
    {
      "cell_type": "code",
      "source": [
        "from google.colab import files\n",
        "dir_to_zip = save_path\n",
        "output_filename = 'file1.zip' \n",
        "delete_dir_after_download = \"Yes\" \n",
        "os.system( \"zip -r {} {}\".format( output_filename , dir_to_zip ) )\n",
        "if delete_dir_after_download == \"Yes\":\n",
        "    os.system( \"rm -r {}\".format( dir_to_zip ) )\n",
        "files.download( output_filename )"
      ],
      "metadata": {
        "colab": {
          "base_uri": "https://localhost:8080/",
          "height": 34
        },
        "id": "eFkD5PtdEDSk",
        "outputId": "d5653297-bd6e-4c6b-9fce-6f7fd66d56d8"
      },
      "execution_count": null,
      "outputs": [
        {
          "output_type": "display_data",
          "data": {
            "text/plain": [
              "<IPython.core.display.Javascript object>"
            ],
            "application/javascript": [
              "\n",
              "    async function download(id, filename, size) {\n",
              "      if (!google.colab.kernel.accessAllowed) {\n",
              "        return;\n",
              "      }\n",
              "      const div = document.createElement('div');\n",
              "      const label = document.createElement('label');\n",
              "      label.textContent = `Downloading \"${filename}\": `;\n",
              "      div.appendChild(label);\n",
              "      const progress = document.createElement('progress');\n",
              "      progress.max = size;\n",
              "      div.appendChild(progress);\n",
              "      document.body.appendChild(div);\n",
              "\n",
              "      const buffers = [];\n",
              "      let downloaded = 0;\n",
              "\n",
              "      const channel = await google.colab.kernel.comms.open(id);\n",
              "      // Send a message to notify the kernel that we're ready.\n",
              "      channel.send({})\n",
              "\n",
              "      for await (const message of channel.messages) {\n",
              "        // Send a message to notify the kernel that we're ready.\n",
              "        channel.send({})\n",
              "        if (message.buffers) {\n",
              "          for (const buffer of message.buffers) {\n",
              "            buffers.push(buffer);\n",
              "            downloaded += buffer.byteLength;\n",
              "            progress.value = downloaded;\n",
              "          }\n",
              "        }\n",
              "      }\n",
              "      const blob = new Blob(buffers, {type: 'application/binary'});\n",
              "      const a = document.createElement('a');\n",
              "      a.href = window.URL.createObjectURL(blob);\n",
              "      a.download = filename;\n",
              "      div.appendChild(a);\n",
              "      a.click();\n",
              "      div.remove();\n",
              "    }\n",
              "  "
            ]
          },
          "metadata": {}
        },
        {
          "output_type": "display_data",
          "data": {
            "text/plain": [
              "<IPython.core.display.Javascript object>"
            ],
            "application/javascript": [
              "download(\"download_e48636a3-be11-408b-b684-d60ca5932933\", \"file1.zip\", 122205390)"
            ]
          },
          "metadata": {}
        }
      ]
    }
  ]
}